{
  "nbformat": 4,
  "nbformat_minor": 0,
  "metadata": {
    "colab": {
      "provenance": []
    },
    "kernelspec": {
      "name": "python3",
      "display_name": "Python 3"
    },
    "language_info": {
      "name": "python"
    }
  },
  "cells": [
    {
      "cell_type": "code",
      "execution_count": 28,
      "metadata": {
        "id": "ORXjmbpQrOav"
      },
      "outputs": [],
      "source": [
        "import torch\n",
        "import torch.nn as nn\n",
        "import matplotlib.pyplot as plt\n",
        "import numpy as np\n",
        "from sklearn import datasets\n"
      ]
    },
    {
      "cell_type": "code",
      "source": [
        "#prepare dataset\n",
        "#pipeline\n",
        "#model design (input, output size, forward pass)\n",
        "#loss and optimizer\n",
        "#training\n",
        "# 1) forward pass (prediction)\n",
        "# 2) gradient calculation (backward pass in pytorch partial derivative wrt to model parameters such weights)\n",
        "# 3) weight updation\n",
        "\n",
        "x_numpy, y_numpy = datasets.make_regression(n_samples=50, n_features=1, noise=20, random_state=2)\n",
        "\n",
        "x = torch.from_numpy(x_numpy.astype(np.float32))\n",
        "y = torch.from_numpy(y_numpy.astype(np.float32))\n",
        "y = y.view(y.shape[0], 1)\n",
        "\n",
        "n_samples, n_features = x.shape\n"
      ],
      "metadata": {
        "id": "kyaRG2JWrRr0"
      },
      "execution_count": 29,
      "outputs": []
    },
    {
      "cell_type": "code",
      "source": [
        "input_size = n_features\n",
        "output_size = 1\n",
        "\n",
        "model = nn.Linear(input_size, output_size) #declare any model in that way"
      ],
      "metadata": {
        "id": "58k0ThqHuBu3"
      },
      "execution_count": 30,
      "outputs": []
    },
    {
      "cell_type": "code",
      "source": [
        "#loss and optimizer\n",
        "\n",
        "criterion = nn.MSELoss()\n",
        "learning_rate = 0.01\n",
        "\n",
        "optimizer = torch.optim.SGD(model.parameters(), lr = learning_rate) #we can add other parameters such as momentum etc"
      ],
      "metadata": {
        "id": "F4gtGpuEr_gW"
      },
      "execution_count": 31,
      "outputs": []
    },
    {
      "cell_type": "code",
      "source": [
        "#training loop\n",
        "\n",
        "iter = 100\n",
        "\n",
        "for epoch in range (iter):\n",
        "  y_pred = model(x)\n",
        "  #loss\n",
        "  loss = criterion(y_pred, y)\n",
        "  #gradient calculations\n",
        "  loss.backward()\n",
        "\n",
        "  #optimizer\n",
        "  optimizer.step()\n",
        "\n",
        "  optimizer.zero_grad()\n",
        "\n",
        "  if (epoch+1) %10 == 0:\n",
        "    print(f'epoch {epoch+1}, loss = {loss.item():.3f}')\n"
      ],
      "metadata": {
        "id": "5VW7oNP5sFoa",
        "colab": {
          "base_uri": "https://localhost:8080/"
        },
        "outputId": "d2907472-3d44-427d-c990-e57998201869"
      },
      "execution_count": 32,
      "outputs": [
        {
          "output_type": "stream",
          "name": "stdout",
          "text": [
            "epoch 10, loss = 1484.024\n",
            "epoch 20, loss = 1116.999\n",
            "epoch 30, loss = 885.670\n",
            "epoch 40, loss = 739.510\n",
            "epoch 50, loss = 646.919\n",
            "epoch 60, loss = 588.099\n",
            "epoch 70, loss = 550.623\n",
            "epoch 80, loss = 526.671\n",
            "epoch 90, loss = 511.312\n",
            "epoch 100, loss = 501.430\n"
          ]
        }
      ]
    },
    {
      "cell_type": "code",
      "source": [
        "#plot\n",
        "predicted = model(x).detach().numpy() #we are using detach to create a new tensor that does not contain gradients\n",
        "plt.plot(x_numpy, y_numpy, 'go')\n",
        "plt.plot(x_numpy, predicted, 'r')\n",
        "plt.show()"
      ],
      "metadata": {
        "colab": {
          "base_uri": "https://localhost:8080/",
          "height": 430
        },
        "id": "7AMmsladrnAD",
        "outputId": "b4b3dc81-35e7-46d6-d937-25af20c4da7a"
      },
      "execution_count": 40,
      "outputs": [
        {
          "output_type": "display_data",
          "data": {
            "text/plain": [
              "<Figure size 640x480 with 1 Axes>"
            ],
            "image/png": "[encoded data removed]"
          },
          "metadata": {}
        }
      ]
    }
  ]
}