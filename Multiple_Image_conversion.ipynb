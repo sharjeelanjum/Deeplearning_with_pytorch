{
  "nbformat": 4,
  "nbformat_minor": 0,
  "metadata": {
    "colab": {
      "provenance": [],
      "authorship_tag": "ABX9TyOA33XRXavKRLY9BS5t4Hmn",
      "include_colab_link": true
    },
    "kernelspec": {
      "name": "python3",
      "display_name": "Python 3"
    },
    "language_info": {
      "name": "python"
    }
  },
  "cells": [
    {
      "cell_type": "markdown",
      "metadata": {
        "id": "view-in-github",
        "colab_type": "text"
      },
      "source": [
        "<a href=\"https://colab.research.google.com/github/sharjeelanjum/Deeplearning_with_pytorch/blob/main/Multiple_Image_conversion.ipynb\" target=\"_parent\"><img src=\"https://colab.research.google.com/assets/colab-badge.svg\" alt=\"Open In Colab\"/></a>"
      ]
    },
    {
      "cell_type": "code",
      "execution_count": null,
      "metadata": {
        "id": "uLQUcsgFGuvy",
        "colab": {
          "base_uri": "https://localhost:8080/"
        },
        "outputId": "b39e3775-3f9b-4a52-dec6-7f3e4b5514bf"
      },
      "outputs": [
        {
          "output_type": "stream",
          "name": "stdout",
          "text": [
            "Image converted successfully: converted/746_center_50kx.jpeg\n",
            "Image converted successfully: converted/863_middle_10kx.jpeg\n",
            "Image converted successfully: converted/1204_center_50kx.jpeg\n",
            "Image converted successfully: converted/786_middle_50kx.jpeg\n",
            "Image converted successfully: converted/2174_edge_50kx.jpeg\n",
            "Image converted successfully: converted/795_edge_10kx.jpeg\n",
            "Image converted successfully: converted/874_center_50kx.jpeg\n",
            "Image converted successfully: converted/910_middle_10kx.jpeg\n",
            "Image converted successfully: converted/887_edge_50kx.jpeg\n",
            "Image converted successfully: converted/786_middle_10kx.jpeg\n",
            "Image converted successfully: converted/1318_center_50kx.jpeg\n",
            "Image converted successfully: converted/2478_edge_10kx.jpeg\n",
            "Image converted successfully: converted/2174_edge_10kx.jpeg\n",
            "Image converted successfully: converted/904_center_10kx.jpeg\n",
            "Image converted successfully: converted/894_center_50kx.jpeg\n",
            "Image converted successfully: converted/1246_edge_50kx.jpeg\n",
            "Image converted successfully: converted/840_center_50kx.jpeg\n",
            "Image converted successfully: converted/904_edge_50kx.jpeg\n",
            "Image converted successfully: converted/889_middle_50kx.jpeg\n",
            "Image converted successfully: converted/1246_edge_10kx.jpeg\n",
            "Image converted successfully: converted/795_edge_50kx.jpeg\n",
            "Image converted successfully: converted/894_center_10kx.jpeg\n",
            "Image converted successfully: converted/1204_center_10kx.jpeg\n",
            "Image converted successfully: converted/3331_center_10kx.jpeg\n",
            "Image converted successfully: converted/1382_edge_50kx.jpeg\n",
            "Image converted successfully: converted/904_edge_10kx.jpeg\n",
            "Image converted successfully: converted/801_center_50kx.jpeg\n",
            "Image converted successfully: converted/897_center_10kx.jpeg\n",
            "Image converted successfully: converted/854_middle_10kx.jpeg\n",
            "Image converted successfully: converted/846_center_50kx.jpeg\n",
            "Image converted successfully: converted/876_edge_10kx.jpeg\n",
            "Image converted successfully: converted/2478_edge_50kx.jpeg\n",
            "Image converted successfully: converted/910_middle_50kx.jpeg\n",
            "Image converted successfully: converted/854_middle_50kx.jpeg\n",
            "Image converted successfully: converted/1318_center_10kx.jpeg\n",
            "Image converted successfully: converted/746_center_10kx.jpeg\n",
            "Image converted successfully: converted/904_center_50kx.jpeg\n",
            "Image converted successfully: converted/785_edge_10kx.jpeg\n",
            "Image converted successfully: converted/863_middle_50kx.jpeg\n",
            "Image converted successfully: converted/1382_edge_10kx.jpeg\n",
            "Image converted successfully: converted/876_edge_50kx.jpeg\n",
            "Image converted successfully: converted/889_middle_10kx.jpeg\n",
            "Image converted successfully: converted/840_center_10kx.jpeg\n",
            "Image converted successfully: converted/801_center_10kx.jpeg\n",
            "Image converted successfully: converted/3331_center_50kx.jpeg\n",
            "Image converted successfully: converted/874_center_10kx.jpeg\n",
            "Image converted successfully: converted/846_center_10kx.jpeg\n",
            "Image converted successfully: converted/887_edge_10kx.jpeg\n",
            "Image converted successfully: converted/897_center_50kx.jpeg\n",
            "Image converted successfully: converted/785_edge_50kx.jpeg\n"
          ]
        }
      ],
      "source": [
        "from PIL import Image\n",
        "import os\n",
        "\n",
        "def convert_tif_to_jpeg(tif_path, jpeg_path):\n",
        "    try:\n",
        "        # Open the .tif image\n",
        "        with Image.open(tif_path) as img:\n",
        "            # Convert to RGB mode if needed\n",
        "            if img.mode != 'RGB':\n",
        "                img = img.convert('RGB')\n",
        "\n",
        "            # Save the image as .jpeg\n",
        "            img.save(jpeg_path, 'JPEG')\n",
        "\n",
        "        print(f\"Image converted successfully: {jpeg_path}\")\n",
        "    except Exception as e:\n",
        "        print(f\"An error occurred: {e}\")\n",
        "\n",
        "def convert_multiple_tif_to_jpeg(tif_dir, jpeg_dir):\n",
        "    # Create the output directory if it doesn't exist\n",
        "    os.makedirs(jpeg_dir, exist_ok=True)\n",
        "\n",
        "    # Get a list of .tif files in the input directory\n",
        "    tif_files = [file for file in os.listdir(tif_dir) if file.endswith('.tif')]\n",
        "\n",
        "    # Convert each .tif file to .jpeg\n",
        "    for tif_file in tif_files:\n",
        "        tif_path = os.path.join(tif_dir, tif_file)\n",
        "        jpeg_file = os.path.splitext(tif_file)[0] + '.jpeg'\n",
        "        jpeg_path = os.path.join(jpeg_dir, jpeg_file)\n",
        "\n",
        "        convert_tif_to_jpeg(tif_path, jpeg_path)\n",
        "\n",
        "# Specify the input directory containing .tif files and the output directory for .jpeg files\n",
        "input_dir = 'images/'\n",
        "output_dir = 'converted/'\n",
        "\n",
        "# Convert all .tif images in the input directory to .jpeg\n",
        "convert_multiple_tif_to_jpeg(input_dir, output_dir)\n"
      ]
    },
    {
      "cell_type": "code",
      "source": [
        "!pwd"
      ],
      "metadata": {
        "colab": {
          "base_uri": "https://localhost:8080/"
        },
        "id": "IrCu5VsVRfCE",
        "outputId": "73ed8946-2985-43a7-ecb8-895ecbdb693d"
      },
      "execution_count": null,
      "outputs": [
        {
          "output_type": "stream",
          "name": "stdout",
          "text": [
            "/content\n"
          ]
        }
      ]
    },
    {
      "cell_type": "code",
      "source": [
        "%cd .."
      ],
      "metadata": {
        "colab": {
          "base_uri": "https://localhost:8080/"
        },
        "id": "5ZEItW7yRi80",
        "outputId": "f7467d8d-d47b-455e-b153-fe4e5ea61bce"
      },
      "execution_count": null,
      "outputs": [
        {
          "output_type": "stream",
          "name": "stdout",
          "text": [
            "/content/sample_data\n"
          ]
        }
      ]
    },
    {
      "cell_type": "code",
      "source": [],
      "metadata": {
        "id": "qLrs51NuRl3y"
      },
      "execution_count": null,
      "outputs": []
    }
  ]
}